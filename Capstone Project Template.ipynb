{
 "cells": [
  {
   "cell_type": "markdown",
   "metadata": {},
   "source": [
    "# Project Title\n",
    "### Data Engineering Capstone Project\n",
    "\n",
    "#### Project Summary\n",
    "How immigrants choose the city they will live when they move to US. \n",
    "\n",
    "Some of the key factors to investigate are:\n",
    "- Temperature\n",
    "- Airport availability\n",
    "\n",
    "The project follows the follow steps:\n",
    "* Step 1: Scope the Project and Gather Data\n",
    "* Step 2: Explore and Assess the Data\n",
    "* Step 3: Define the Data Model\n",
    "* Step 4: Run ETL to Model the Data\n",
    "* Step 5: Complete Project Write Up"
   ]
  },
  {
   "cell_type": "code",
   "execution_count": 2,
   "metadata": {},
   "outputs": [],
   "source": [
    "# Do all imports and installs here\n",
    "import pandas as pd\n",
    "import os\n",
    "from pyspark.sql import SparkSession\n",
    "from pyspark import SparkContext, SparkConf\n",
    "from pyspark.sql.functions import col, desc\n",
    "import configparser"
   ]
  },
  {
   "cell_type": "markdown",
   "metadata": {},
   "source": [
    "### Step 1: Scope the Project and Gather Data\n",
    "\n",
    "#### Scope \n",
    "Explain what you plan to do in the project in more detail. What data do you use? What is your end solution look like? What tools did you use? etc>\n",
    "\n",
    "#### Describe and Gather Data \n",
    "Describe the data sets you're using. Where did it come from? What type of information is included? "
   ]
  },
  {
   "cell_type": "code",
   "execution_count": 3,
   "metadata": {},
   "outputs": [],
   "source": [
    "import logging\n",
    "from etl import (\n",
    "    get_spark_session,\n",
    "    get_immigration_data,\n",
    "    get_demographics_data,\n",
    "    logger\n",
    ")\n",
    "logger.setLevel(logging.WARN) # To suppress etl logs in notebook\n",
    "spark = get_spark_session()\n",
    "df_immigration = get_immigration_data(spark)"
   ]
  },
  {
   "cell_type": "code",
   "execution_count": 4,
   "metadata": {},
   "outputs": [
    {
     "output_type": "execute_result",
     "data": {
      "text/plain": [
       "3096313"
      ]
     },
     "metadata": {},
     "execution_count": 4
    }
   ],
   "source": [
    "df_immigration.count()"
   ]
  },
  {
   "cell_type": "code",
   "execution_count": 9,
   "metadata": {},
   "outputs": [
    {
     "output_type": "stream",
     "name": "stdout",
     "text": [
      "root\n |-- cicid: double (nullable = true)\n |-- i94yr: double (nullable = true)\n |-- i94mon: double (nullable = true)\n |-- i94cit: double (nullable = true)\n |-- i94res: double (nullable = true)\n |-- i94port: string (nullable = true)\n |-- arrdate: double (nullable = true)\n |-- i94mode: double (nullable = true)\n |-- i94addr: string (nullable = true)\n |-- depdate: double (nullable = true)\n |-- i94bir: double (nullable = true)\n |-- i94visa: double (nullable = true)\n |-- count: double (nullable = true)\n |-- dtadfile: string (nullable = true)\n |-- visapost: string (nullable = true)\n |-- occup: string (nullable = true)\n |-- entdepa: string (nullable = true)\n |-- entdepd: string (nullable = true)\n |-- entdepu: string (nullable = true)\n |-- matflag: string (nullable = true)\n |-- biryear: double (nullable = true)\n |-- dtaddto: string (nullable = true)\n |-- gender: string (nullable = true)\n |-- insnum: string (nullable = true)\n |-- airline: string (nullable = true)\n |-- admnum: double (nullable = true)\n |-- fltno: string (nullable = true)\n |-- visatype: string (nullable = true)\n\n"
     ]
    }
   ],
   "source": [
    "df_spark.printSchema()"
   ]
  },
  {
   "cell_type": "code",
   "execution_count": 18,
   "metadata": {},
   "outputs": [
    {
     "output_type": "stream",
     "name": "stdout",
     "text": [
      "+---------+------+------+------+------+-------+-------+-------+-------+-------+------+-------+-----+--------+--------+-----+-------+-------+-------+-------+-------+--------+------+------+-------+--------------+-----+--------+\n|    cicid| i94yr|i94mon|i94cit|i94res|i94port|arrdate|i94mode|i94addr|depdate|i94bir|i94visa|count|dtadfile|visapost|occup|entdepa|entdepd|entdepu|matflag|biryear| dtaddto|gender|insnum|airline|        admnum|fltno|visatype|\n+---------+------+------+------+------+-------+-------+-------+-------+-------+------+-------+-----+--------+--------+-----+-------+-------+-------+-------+-------+--------+------+------+-------+--------------+-----+--------+\n|5748517.0|2016.0|   4.0| 245.0| 438.0|    LOS|20574.0|    1.0|     CA|20582.0|  40.0|    1.0|  1.0|20160430|     SYD| null|      G|      O|   null|      M| 1976.0|10292016|     F|  null|     QF|9.495387003E10|00011|      B1|\n|5748518.0|2016.0|   4.0| 245.0| 438.0|    LOS|20574.0|    1.0|     NV|20591.0|  32.0|    1.0|  1.0|20160430|     SYD| null|      G|      O|   null|      M| 1984.0|10292016|     F|  null|     VA|9.495562283E10|00007|      B1|\n|5748519.0|2016.0|   4.0| 245.0| 438.0|    LOS|20574.0|    1.0|     WA|20582.0|  29.0|    1.0|  1.0|20160430|     SYD| null|      G|      O|   null|      M| 1987.0|10292016|     M|  null|     DL|9.495640653E10|00040|      B1|\n|5748520.0|2016.0|   4.0| 245.0| 438.0|    LOS|20574.0|    1.0|     WA|20588.0|  29.0|    1.0|  1.0|20160430|     SYD| null|      G|      O|   null|      M| 1987.0|10292016|     F|  null|     DL|9.495645143E10|00040|      B1|\n|5748521.0|2016.0|   4.0| 245.0| 438.0|    LOS|20574.0|    1.0|     WA|20588.0|  28.0|    1.0|  1.0|20160430|     SYD| null|      G|      O|   null|      M| 1988.0|10292016|     M|  null|     DL|9.495638813E10|00040|      B1|\n+---------+------+------+------+------+-------+-------+-------+-------+-------+------+-------+-----+--------+--------+-----+-------+-------+-------+-------+-------+--------+------+------+-------+--------------+-----+--------+\nonly showing top 5 rows\n\n"
     ]
    },
    {
     "output_type": "execute_result",
     "data": {
      "text/plain": [
       "3096313"
      ]
     },
     "metadata": {},
     "execution_count": 18
    }
   ],
   "source": [
    "df_spark.show(5)\n",
    "df_spark.filter('visatype is not null').count()"
   ]
  },
  {
   "cell_type": "code",
   "execution_count": 21,
   "metadata": {},
   "outputs": [
    {
     "output_type": "execute_result",
     "data": {
      "text/html": "<div>\n<style scoped>\n    .dataframe tbody tr th:only-of-type {\n        vertical-align: middle;\n    }\n\n    .dataframe tbody tr th {\n        vertical-align: top;\n    }\n\n    .dataframe thead th {\n        text-align: right;\n    }\n</style>\n<table border=\"1\" class=\"dataframe\">\n  <thead>\n    <tr style=\"text-align: right;\">\n      <th></th>\n      <th>cicid</th>\n      <th>i94yr</th>\n      <th>i94mon</th>\n      <th>i94cit</th>\n      <th>i94res</th>\n      <th>i94port</th>\n      <th>arrdate</th>\n      <th>i94mode</th>\n      <th>i94addr</th>\n      <th>depdate</th>\n      <th>...</th>\n      <th>entdepu</th>\n      <th>matflag</th>\n      <th>biryear</th>\n      <th>dtaddto</th>\n      <th>gender</th>\n      <th>insnum</th>\n      <th>airline</th>\n      <th>admnum</th>\n      <th>fltno</th>\n      <th>visatype</th>\n    </tr>\n  </thead>\n  <tbody>\n    <tr>\n      <th>0</th>\n      <td>5748517.0</td>\n      <td>2016.0</td>\n      <td>4.0</td>\n      <td>245.0</td>\n      <td>438.0</td>\n      <td>LOS</td>\n      <td>20574.0</td>\n      <td>1.0</td>\n      <td>CA</td>\n      <td>20582.0</td>\n      <td>...</td>\n      <td>None</td>\n      <td>M</td>\n      <td>1976.0</td>\n      <td>10292016</td>\n      <td>F</td>\n      <td>None</td>\n      <td>QF</td>\n      <td>9.495387e+10</td>\n      <td>00011</td>\n      <td>B1</td>\n    </tr>\n    <tr>\n      <th>1</th>\n      <td>5748518.0</td>\n      <td>2016.0</td>\n      <td>4.0</td>\n      <td>245.0</td>\n      <td>438.0</td>\n      <td>LOS</td>\n      <td>20574.0</td>\n      <td>1.0</td>\n      <td>NV</td>\n      <td>20591.0</td>\n      <td>...</td>\n      <td>None</td>\n      <td>M</td>\n      <td>1984.0</td>\n      <td>10292016</td>\n      <td>F</td>\n      <td>None</td>\n      <td>VA</td>\n      <td>9.495562e+10</td>\n      <td>00007</td>\n      <td>B1</td>\n    </tr>\n    <tr>\n      <th>2</th>\n      <td>5748519.0</td>\n      <td>2016.0</td>\n      <td>4.0</td>\n      <td>245.0</td>\n      <td>438.0</td>\n      <td>LOS</td>\n      <td>20574.0</td>\n      <td>1.0</td>\n      <td>WA</td>\n      <td>20582.0</td>\n      <td>...</td>\n      <td>None</td>\n      <td>M</td>\n      <td>1987.0</td>\n      <td>10292016</td>\n      <td>M</td>\n      <td>None</td>\n      <td>DL</td>\n      <td>9.495641e+10</td>\n      <td>00040</td>\n      <td>B1</td>\n    </tr>\n    <tr>\n      <th>3</th>\n      <td>5748520.0</td>\n      <td>2016.0</td>\n      <td>4.0</td>\n      <td>245.0</td>\n      <td>438.0</td>\n      <td>LOS</td>\n      <td>20574.0</td>\n      <td>1.0</td>\n      <td>WA</td>\n      <td>20588.0</td>\n      <td>...</td>\n      <td>None</td>\n      <td>M</td>\n      <td>1987.0</td>\n      <td>10292016</td>\n      <td>F</td>\n      <td>None</td>\n      <td>DL</td>\n      <td>9.495645e+10</td>\n      <td>00040</td>\n      <td>B1</td>\n    </tr>\n    <tr>\n      <th>4</th>\n      <td>5748521.0</td>\n      <td>2016.0</td>\n      <td>4.0</td>\n      <td>245.0</td>\n      <td>438.0</td>\n      <td>LOS</td>\n      <td>20574.0</td>\n      <td>1.0</td>\n      <td>WA</td>\n      <td>20588.0</td>\n      <td>...</td>\n      <td>None</td>\n      <td>M</td>\n      <td>1988.0</td>\n      <td>10292016</td>\n      <td>M</td>\n      <td>None</td>\n      <td>DL</td>\n      <td>9.495639e+10</td>\n      <td>00040</td>\n      <td>B1</td>\n    </tr>\n    <tr>\n      <th>5</th>\n      <td>5748522.0</td>\n      <td>2016.0</td>\n      <td>4.0</td>\n      <td>245.0</td>\n      <td>464.0</td>\n      <td>HHW</td>\n      <td>20574.0</td>\n      <td>1.0</td>\n      <td>HI</td>\n      <td>20579.0</td>\n      <td>...</td>\n      <td>None</td>\n      <td>M</td>\n      <td>1959.0</td>\n      <td>10292016</td>\n      <td>M</td>\n      <td>None</td>\n      <td>NZ</td>\n      <td>9.498180e+10</td>\n      <td>00010</td>\n      <td>B2</td>\n    </tr>\n    <tr>\n      <th>6</th>\n      <td>5748523.0</td>\n      <td>2016.0</td>\n      <td>4.0</td>\n      <td>245.0</td>\n      <td>464.0</td>\n      <td>HHW</td>\n      <td>20574.0</td>\n      <td>1.0</td>\n      <td>HI</td>\n      <td>20586.0</td>\n      <td>...</td>\n      <td>None</td>\n      <td>M</td>\n      <td>1950.0</td>\n      <td>10292016</td>\n      <td>F</td>\n      <td>None</td>\n      <td>NZ</td>\n      <td>9.497969e+10</td>\n      <td>00010</td>\n      <td>B2</td>\n    </tr>\n    <tr>\n      <th>7</th>\n      <td>5748524.0</td>\n      <td>2016.0</td>\n      <td>4.0</td>\n      <td>245.0</td>\n      <td>464.0</td>\n      <td>HHW</td>\n      <td>20574.0</td>\n      <td>1.0</td>\n      <td>HI</td>\n      <td>20586.0</td>\n      <td>...</td>\n      <td>None</td>\n      <td>M</td>\n      <td>1975.0</td>\n      <td>10292016</td>\n      <td>F</td>\n      <td>None</td>\n      <td>NZ</td>\n      <td>9.497975e+10</td>\n      <td>00010</td>\n      <td>B2</td>\n    </tr>\n    <tr>\n      <th>8</th>\n      <td>5748525.0</td>\n      <td>2016.0</td>\n      <td>4.0</td>\n      <td>245.0</td>\n      <td>464.0</td>\n      <td>HOU</td>\n      <td>20574.0</td>\n      <td>1.0</td>\n      <td>FL</td>\n      <td>20581.0</td>\n      <td>...</td>\n      <td>None</td>\n      <td>M</td>\n      <td>1989.0</td>\n      <td>10292016</td>\n      <td>M</td>\n      <td>None</td>\n      <td>NZ</td>\n      <td>9.497325e+10</td>\n      <td>00028</td>\n      <td>B2</td>\n    </tr>\n    <tr>\n      <th>9</th>\n      <td>5748526.0</td>\n      <td>2016.0</td>\n      <td>4.0</td>\n      <td>245.0</td>\n      <td>464.0</td>\n      <td>LOS</td>\n      <td>20574.0</td>\n      <td>1.0</td>\n      <td>CA</td>\n      <td>20581.0</td>\n      <td>...</td>\n      <td>None</td>\n      <td>M</td>\n      <td>1990.0</td>\n      <td>10292016</td>\n      <td>F</td>\n      <td>None</td>\n      <td>NZ</td>\n      <td>9.501355e+10</td>\n      <td>00002</td>\n      <td>B2</td>\n    </tr>\n  </tbody>\n</table>\n<p>10 rows × 28 columns</p>\n</div>",
      "text/plain": [
       "       cicid   i94yr  i94mon  i94cit  i94res i94port  arrdate  i94mode  \\\n",
       "0  5748517.0  2016.0     4.0   245.0   438.0     LOS  20574.0      1.0   \n",
       "1  5748518.0  2016.0     4.0   245.0   438.0     LOS  20574.0      1.0   \n",
       "2  5748519.0  2016.0     4.0   245.0   438.0     LOS  20574.0      1.0   \n",
       "3  5748520.0  2016.0     4.0   245.0   438.0     LOS  20574.0      1.0   \n",
       "4  5748521.0  2016.0     4.0   245.0   438.0     LOS  20574.0      1.0   \n",
       "5  5748522.0  2016.0     4.0   245.0   464.0     HHW  20574.0      1.0   \n",
       "6  5748523.0  2016.0     4.0   245.0   464.0     HHW  20574.0      1.0   \n",
       "7  5748524.0  2016.0     4.0   245.0   464.0     HHW  20574.0      1.0   \n",
       "8  5748525.0  2016.0     4.0   245.0   464.0     HOU  20574.0      1.0   \n",
       "9  5748526.0  2016.0     4.0   245.0   464.0     LOS  20574.0      1.0   \n",
       "\n",
       "  i94addr  depdate  ...  entdepu  matflag  biryear   dtaddto gender insnum  \\\n",
       "0      CA  20582.0  ...     None        M   1976.0  10292016      F   None   \n",
       "1      NV  20591.0  ...     None        M   1984.0  10292016      F   None   \n",
       "2      WA  20582.0  ...     None        M   1987.0  10292016      M   None   \n",
       "3      WA  20588.0  ...     None        M   1987.0  10292016      F   None   \n",
       "4      WA  20588.0  ...     None        M   1988.0  10292016      M   None   \n",
       "5      HI  20579.0  ...     None        M   1959.0  10292016      M   None   \n",
       "6      HI  20586.0  ...     None        M   1950.0  10292016      F   None   \n",
       "7      HI  20586.0  ...     None        M   1975.0  10292016      F   None   \n",
       "8      FL  20581.0  ...     None        M   1989.0  10292016      M   None   \n",
       "9      CA  20581.0  ...     None        M   1990.0  10292016      F   None   \n",
       "\n",
       "  airline        admnum  fltno visatype  \n",
       "0      QF  9.495387e+10  00011       B1  \n",
       "1      VA  9.495562e+10  00007       B1  \n",
       "2      DL  9.495641e+10  00040       B1  \n",
       "3      DL  9.495645e+10  00040       B1  \n",
       "4      DL  9.495639e+10  00040       B1  \n",
       "5      NZ  9.498180e+10  00010       B2  \n",
       "6      NZ  9.497969e+10  00010       B2  \n",
       "7      NZ  9.497975e+10  00010       B2  \n",
       "8      NZ  9.497325e+10  00028       B2  \n",
       "9      NZ  9.501355e+10  00002       B2  \n",
       "\n",
       "[10 rows x 28 columns]"
      ]
     },
     "metadata": {},
     "execution_count": 21
    }
   ],
   "source": [
    "df_pd = pd.DataFrame(df_spark.head(10))\n",
    "df_pd.columns = df_spark.columns\n",
    "df_pd"
   ]
  },
  {
   "cell_type": "code",
   "execution_count": null,
   "metadata": {},
   "outputs": [],
   "source": []
  },
  {
   "cell_type": "markdown",
   "metadata": {},
   "source": [
    "### Step 2: Explore and Assess the Data\n",
    "#### Explore the Data \n",
    "Identify data quality issues, like missing values, duplicate data, etc.\n",
    "\n",
    "#### Cleaning Steps\n",
    "Document steps necessary to clean the data"
   ]
  },
  {
   "cell_type": "code",
   "execution_count": null,
   "metadata": {},
   "outputs": [],
   "source": []
  },
  {
   "cell_type": "code",
   "execution_count": null,
   "metadata": {},
   "outputs": [],
   "source": [
    "# Performing cleaning tasks here\n",
    "\n",
    "\n",
    "\n"
   ]
  },
  {
   "cell_type": "markdown",
   "metadata": {},
   "source": [
    "### Step 3: Define the Data Model\n",
    "#### 3.1 Conceptual Data Model\n",
    "Map out the conceptual data model and explain why you chose that model\n",
    "\n",
    "#### 3.2 Mapping Out Data Pipelines\n",
    "List the steps necessary to pipeline the data into the chosen data model"
   ]
  },
  {
   "cell_type": "markdown",
   "metadata": {},
   "source": [
    "### Step 4: Run Pipelines to Model the Data \n",
    "#### 4.1 Create the data model\n",
    "Build the data pipelines to create the data model."
   ]
  },
  {
   "cell_type": "code",
   "execution_count": null,
   "metadata": {},
   "outputs": [],
   "source": [
    "# Write code here"
   ]
  },
  {
   "cell_type": "markdown",
   "metadata": {},
   "source": [
    "#### 4.2 Data Quality Checks\n",
    "Explain the data quality checks you'll perform to ensure the pipeline ran as expected. These could include:\n",
    " * Integrity constraints on the relational database (e.g., unique key, data type, etc.)\n",
    " * Unit tests for the scripts to ensure they are doing the right thing\n",
    " * Source/Count checks to ensure completeness\n",
    " \n",
    "Run Quality Checks"
   ]
  },
  {
   "cell_type": "code",
   "execution_count": null,
   "metadata": {},
   "outputs": [],
   "source": [
    "# Perform quality checks here"
   ]
  },
  {
   "cell_type": "markdown",
   "metadata": {},
   "source": [
    "#### 4.3 Data dictionary \n",
    "Create a data dictionary for your data model. For each field, provide a brief description of what the data is and where it came from. You can include the data dictionary in the notebook or in a separate file."
   ]
  },
  {
   "cell_type": "markdown",
   "metadata": {},
   "source": [
    "#### Step 5: Complete Project Write Up\n",
    "* Clearly state the rationale for the choice of tools and technologies for the project.\n",
    "* Propose how often the data should be updated and why.\n",
    "* Write a description of how you would approach the problem differently under the following scenarios:\n",
    " * The data was increased by 100x.\n",
    " * The data populates a dashboard that must be updated on a daily basis by 7am every day.\n",
    " * The database needed to be accessed by 100+ people."
   ]
  },
  {
   "cell_type": "code",
   "execution_count": null,
   "metadata": {},
   "outputs": [],
   "source": []
  },
  {
   "cell_type": "code",
   "execution_count": null,
   "metadata": {},
   "outputs": [],
   "source": []
  },
  {
   "cell_type": "code",
   "execution_count": null,
   "metadata": {},
   "outputs": [],
   "source": []
  },
  {
   "cell_type": "code",
   "execution_count": null,
   "metadata": {},
   "outputs": [],
   "source": []
  },
  {
   "cell_type": "code",
   "execution_count": null,
   "metadata": {},
   "outputs": [],
   "source": []
  },
  {
   "cell_type": "code",
   "execution_count": null,
   "metadata": {},
   "outputs": [],
   "source": []
  }
 ],
 "metadata": {
  "kernelspec": {
   "name": "python3",
   "display_name": "Python 3.6.13 64-bit"
  },
  "language_info": {
   "codemirror_mode": {
    "name": "ipython",
    "version": 3
   },
   "file_extension": ".py",
   "mimetype": "text/x-python",
   "name": "python",
   "nbconvert_exporter": "python",
   "pygments_lexer": "ipython3",
   "version": "3.6.13"
  },
  "interpreter": {
   "hash": "767d51c1340bd893661ea55ea3124f6de3c7a262a8b4abca0554b478b1e2ff90"
  }
 },
 "nbformat": 4,
 "nbformat_minor": 2
}